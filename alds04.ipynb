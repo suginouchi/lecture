{
  "nbformat": 4,
  "nbformat_minor": 0,
  "metadata": {
    "colab": {
      "provenance": [],
      "authorship_tag": "ABX9TyP96jS9hRU2i4cnOKDt9pqj",
      "include_colab_link": true
    },
    "kernelspec": {
      "name": "python3",
      "display_name": "Python 3"
    },
    "language_info": {
      "name": "python"
    }
  },
  "cells": [
    {
      "cell_type": "markdown",
      "metadata": {
        "id": "view-in-github",
        "colab_type": "text"
      },
      "source": [
        "<a href=\"https://colab.research.google.com/github/suginouchi/lecture/blob/main/alds04.ipynb\" target=\"_parent\"><img src=\"https://colab.research.google.com/assets/colab-badge.svg\" alt=\"Open In Colab\"/></a>"
      ]
    },
    {
      "cell_type": "markdown",
      "source": [
        "【問1】$\\Theta$記法を用いてアルゴリズムの実行時間を表す．\n",
        "\n",
        "- $T_1(n) = 100n$\n",
        " - $T_1(n) = \\Theta(n)$\n",
        "\n",
        "- $T_2(n) = 2n^2 + 4n + 1$\n",
        "  - $T_2(n) = \\Theta(n^2)$\n",
        "\n",
        "- $T_3(n) = 4n^2 + 9n\\sqrt{n}$\n",
        "  - $T_3(n) = \\Theta(n^2)$\n",
        "    - $n \\sqrt{n}$ は $n^{3/2}$ なので\n",
        "\n",
        "- $T_4(n) = 100n \\sqrt{n} + 10 n \\lg n$\n",
        "  - $T_4(n) = \\Theta(n \\sqrt{n})$\n",
        "\n",
        "- $T_5(n) = 2^n + n^100$\n",
        "  - $T_5(n) = \\Theta(2^n)$\n"
      ],
      "metadata": {
        "id": "4z_onV-0q9Ks"
      }
    },
    {
      "cell_type": "markdown",
      "source": [
        "【問2】\n",
        "正の整数nが素数かどうかを判定する関数PT()"
      ],
      "metadata": {
        "id": "y3-J3Q8iuMfT"
      }
    },
    {
      "cell_type": "code",
      "source": [
        "def PT(n):\n",
        "  for i in range(2,n):\n",
        "    if n%i==0:\n",
        "      return \"素数ではないです．\"\n",
        "  else:\n",
        "    return \"素数です．\""
      ],
      "metadata": {
        "id": "DlJgIGJDuMP5"
      },
      "execution_count": null,
      "outputs": []
    },
    {
      "cell_type": "code",
      "source": [
        "n=87\n",
        "print(str(n)+'は'+PT(n))\n",
        "\n",
        "print('---- * ---- * ----')\n",
        "\n",
        "n=3\n",
        "print(str(n)+'は'+PT(n))\n",
        "\n",
        "print('---- * ---- * ----')\n",
        "\n",
        "n=123456789\n",
        "print(str(n)+'は'+PT(n))"
      ],
      "metadata": {
        "colab": {
          "base_uri": "https://localhost:8080/"
        },
        "id": "iF49cYmQvEKW",
        "outputId": "3b23bbdf-3065-4590-91dc-922df85cf9f9"
      },
      "execution_count": null,
      "outputs": [
        {
          "output_type": "stream",
          "name": "stdout",
          "text": [
            "87は素数ではないです．\n",
            "---- * ---- * ----\n",
            "3は素数です．\n",
            "---- * ---- * ----\n",
            "123456789は素数ではないです．\n"
          ]
        }
      ]
    },
    {
      "cell_type": "code",
      "source": [
        "def PT2(n):\n",
        "  for i in range(2,int(n**0.5)):\n",
        "    if n%i==0:\n",
        "      return \"素数ではないです．\"\n",
        "  else:\n",
        "    return \"素数です．\""
      ],
      "metadata": {
        "id": "DDZQyDrSyneQ"
      },
      "execution_count": null,
      "outputs": []
    },
    {
      "cell_type": "code",
      "source": [
        "n=87\n",
        "print(str(n)+'は'+PT2(n))\n",
        "\n",
        "print('---- * ---- * ----')\n",
        "\n",
        "n=3\n",
        "print(str(n)+'は'+PT2(n))\n",
        "\n",
        "print('---- * ---- * ----')\n",
        "\n",
        "n=123456789\n",
        "print(str(n)+'は'+PT2(n))"
      ],
      "metadata": {
        "colab": {
          "base_uri": "https://localhost:8080/"
        },
        "id": "rFLYDqkKywmM",
        "outputId": "6e04e6ec-f1d1-4d56-ed52-8fed5a432237"
      },
      "execution_count": null,
      "outputs": [
        {
          "output_type": "stream",
          "name": "stdout",
          "text": [
            "87は素数ではないです．\n",
            "---- * ---- * ----\n",
            "3は素数です．\n",
            "---- * ---- * ----\n",
            "123456789は素数ではないです．\n"
          ]
        }
      ]
    },
    {
      "cell_type": "markdown",
      "source": [
        "自然数でない$n$を考える．\n",
        "今，$n=a \\times b$であるとする．\n",
        "\n",
        "もし$a>\\sqrt{n}$かつ$b>\\sqrt{n}$であるなら，\n",
        "$a\\times b > n$となる．\n",
        "\n",
        "以上より$a$と$b$のどちらかは$\\sqrt{n}$となるので\n",
        "for文は\\sqrt{n}まで回せば良く，関数PT()の最悪計算量は$\\Theta(\\sqrt{n})$となる．\n"
      ],
      "metadata": {
        "id": "8-rWZ5Yfz4cS"
      }
    },
    {
      "cell_type": "markdown",
      "source": [
        "【問3】二分探索法\n",
        "配列Aの中に整数iが存在するならば\n",
        "その要素番号をreturnし，\n",
        "存在しなければ-1をreturnする．"
      ],
      "metadata": {
        "id": "90lOnAzl7gCA"
      }
    },
    {
      "cell_type": "code",
      "source": [
        "def BS(A, i):\n",
        "\n",
        "  l,r = 0, len(A)\n",
        "\n",
        "  while True:\n",
        "\n",
        "    if not( 0<=(r+l)//2<len(A)):\n",
        "      return -1\n",
        "    elif l==r and A[l]!=i:\n",
        "      return -1\n",
        "\n",
        "    ai=A[(l+r)//2]\n",
        "    if i==ai:\n",
        "      return (l+r)//2\n",
        "\n",
        "\n",
        "    elif i<ai:\n",
        "      r=(l+r)//2 - 1\n",
        "    else:\n",
        "      l=(l+r)//2 + 1\n"
      ],
      "metadata": {
        "id": "siL8bApl75-f"
      },
      "execution_count": null,
      "outputs": []
    },
    {
      "cell_type": "code",
      "source": [
        "import random\n",
        "\n",
        "n,k = 1000, 100\n",
        "#n: 配列Aの各要素が取りうる値の最大値\n",
        "#k: 配列Aの長さ\n",
        "A =sorted(random.sample(range(1, n+1), k=k))\n",
        "\n",
        "print(BS(A, A[12]))\n",
        "\n",
        "print(BS(A, A[0]))\n",
        "\n",
        "print(BS(A, 1000))\n",
        "\n",
        "print(BS(A, -100))"
      ],
      "metadata": {
        "colab": {
          "base_uri": "https://localhost:8080/"
        },
        "id": "h8E024U18oBC",
        "outputId": "ea7bae05-d599-4845-82b3-6926f543d99d"
      },
      "execution_count": null,
      "outputs": [
        {
          "output_type": "stream",
          "name": "stdout",
          "text": [
            "12\n",
            "0\n",
            "-1\n",
            "-1\n"
          ]
        }
      ]
    },
    {
      "cell_type": "code",
      "source": [],
      "metadata": {
        "id": "BlSLKnmvHQkw"
      },
      "execution_count": null,
      "outputs": []
    },
    {
      "cell_type": "markdown",
      "source": [
        "【問4】"
      ],
      "metadata": {
        "id": "BWLTtiv4GHuO"
      }
    },
    {
      "cell_type": "markdown",
      "source": [
        "```\n",
        "selection_sort(A)             step\n",
        "  \n",
        "  for i=1 to A.length-1       n-1\n",
        "    idx=i                     n\n",
        "    for j =i+1 to A.length    n^2\n",
        "      if A[j]<A[idx]          n^2\n",
        "        idx=j                 最悪時にn^2\n",
        "    \n",
        "    A[idx]とA[i]を交換          n\n",
        "\n",
        "```"
      ],
      "metadata": {
        "id": "IMXewHAVGJpS"
      }
    }
  ]
}