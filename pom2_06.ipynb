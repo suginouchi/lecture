{
  "nbformat": 4,
  "nbformat_minor": 0,
  "metadata": {
    "colab": {
      "provenance": [],
      "authorship_tag": "ABX9TyPH9Ztu3JNtJcKieZIgAG6A",
      "include_colab_link": true
    },
    "kernelspec": {
      "name": "python3",
      "display_name": "Python 3"
    },
    "language_info": {
      "name": "python"
    }
  },
  "cells": [
    {
      "cell_type": "markdown",
      "metadata": {
        "id": "view-in-github",
        "colab_type": "text"
      },
      "source": [
        "<a href=\"https://colab.research.google.com/github/suginouchi/lecture/blob/main/pom2_06.ipynb\" target=\"_parent\"><img src=\"https://colab.research.google.com/assets/colab-badge.svg\" alt=\"Open In Colab\"/></a>"
      ]
    },
    {
      "cell_type": "markdown",
      "source": [
        "Ex 6-1"
      ],
      "metadata": {
        "id": "082D2_1wg3NJ"
      }
    },
    {
      "cell_type": "code",
      "execution_count": 1,
      "metadata": {
        "id": "OHWZtudfTLN0",
        "outputId": "05381043-7cbe-431f-b58e-b497418770af",
        "colab": {
          "base_uri": "https://localhost:8080/"
        }
      },
      "outputs": [
        {
          "output_type": "stream",
          "name": "stdout",
          "text": [
            "Collecting pulp\n",
            "  Downloading PuLP-2.7.0-py3-none-any.whl (14.3 MB)\n",
            "\u001b[2K     \u001b[90m━━━━━━━━━━━━━━━━━━━━━━━━━━━━━━━━━━━━━━━━\u001b[0m \u001b[32m14.3/14.3 MB\u001b[0m \u001b[31m36.5 MB/s\u001b[0m eta \u001b[36m0:00:00\u001b[0m\n",
            "\u001b[?25hInstalling collected packages: pulp\n",
            "Successfully installed pulp-2.7.0\n"
          ]
        }
      ],
      "source": [
        "!pip install pulp\n",
        "import pulp"
      ]
    },
    {
      "cell_type": "code",
      "source": [
        "# 加工時間と使用する機械\n",
        "# 辞書と通し番号を統一するために，先頭にNoneをつけている．\n",
        "pt = [None, [40,100,50], [70,40],[70,80]]\n",
        "mu = [None, [1,2,3],[2,1],[2,3]]\n",
        "K = [None, 3,2,2]\n",
        "J = len(K)-1\n",
        "M = 1000 # Mの値は（big-M法として機能する範囲内で）小さくする方が良い．\n",
        "\n",
        "problem = pulp.LpProblem('job_shop', sense = pulp.LpMinimize)\n",
        "\n",
        "# 変数を登録\n",
        "# s_jkは辞書であり通し番号は1から数える．\n",
        "s_jk =[None]+ [pulp.LpVariable.dicts('s{}'.format(j), range(1,K[j]+1), lowBound = 0) for j in range(1,J+1)]\n",
        "x_ikjl = [None]\n",
        "for i in range(1,J+1):\n",
        "  x_i  =[None]\n",
        "  for k in range(1, K[i]+1):\n",
        "    x_ik=[None]\n",
        "    for j in range(1, J+1):\n",
        "      x = pulp.LpVariable.dicts('x{}_{}_{}'.format(i, k, j), range(1,K[j]+1), lowBound = 0, cat=pulp.LpBinary)\n",
        "      # print(i,k,j, x)\n",
        "      x_ik.append(x)\n",
        "    x_i.append(x_ik)\n",
        "  x_ikjl.append(x_i)\n",
        "  # print(x_ikjl)\n",
        "c_max = pulp.LpVariable('c_max', lowBound = 0)\n",
        "\n",
        "print(s_jk)\n",
        "# print(x_ikjl)\n",
        "# print(c_max)"
      ],
      "metadata": {
        "colab": {
          "base_uri": "https://localhost:8080/"
        },
        "id": "cOIswDPSEs_6",
        "outputId": "bdb2a776-41e1-44b0-8724-c66611eff3b9"
      },
      "execution_count": 105,
      "outputs": [
        {
          "output_type": "stream",
          "name": "stdout",
          "text": [
            "[None, {1: s1_1, 2: s1_2, 3: s1_3}, {1: s2_1, 2: s2_2}, {1: s3_1, 2: s3_2}]\n"
          ]
        }
      ]
    },
    {
      "cell_type": "code",
      "source": [
        "# 目的関数はメイクスパン最小化\n",
        "problem += c_max\n",
        "\n",
        "# ---- * ---- * ---- * ----\n",
        "\n",
        "# ジョブjの工程k+1の作業ができるのは，工程kの終了後\n",
        "for j in range(1,J+1):\n",
        "  for k in range(1,K[j]):\n",
        "    problem += s_jk[j][k] + pt[j][k-1] <=s_jk[j][k+1]\n",
        "\n",
        "# メイクスパンは，全ジョブの最遅完了時刻\n",
        "for j in range(1,J+1):\n",
        "  problem += s_jk[j][K[j]] + pt[j][K[j]-1] <= c_max\n",
        "\n",
        "\n",
        "# 同時に加工できるジョブはたかだか1つ\n",
        "for i in range(1, J):\n",
        "  for k in range(1,K[i]+1):\n",
        "    for j in range(i+1,J+1):\n",
        "      for l in range(1, K[j]+1):\n",
        "        if mu[i][k-1] == mu[j][l-1]:\n",
        "          problem += pt[j][l-1] - M * x_ikjl[i][k][j][l] <= s_jk[i][k] - s_jk[j][l]\n",
        "          problem += pt[i][k-1] - M * (1 - x_ikjl[i][k][j][l]) <= s_jk[j][l] - s_jk[i][k]\n",
        "\n",
        "print(problem)"
      ],
      "metadata": {
        "colab": {
          "base_uri": "https://localhost:8080/"
        },
        "id": "Busac83zJm5e",
        "outputId": "dc1d8086-1daf-48ce-a2c0-9149fa6d0836"
      },
      "execution_count": 106,
      "outputs": [
        {
          "output_type": "stream",
          "name": "stdout",
          "text": [
            "job_shop:\n",
            "MINIMIZE\n",
            "1*c_max + 0\n",
            "SUBJECT TO\n",
            "_C1: s1_1 - s1_2 <= -40\n",
            "\n",
            "_C2: s1_2 - s1_3 <= -100\n",
            "\n",
            "_C3: s2_1 - s2_2 <= -70\n",
            "\n",
            "_C4: s3_1 - s3_2 <= -70\n",
            "\n",
            "_C5: - c_max + s1_3 <= -50\n",
            "\n",
            "_C6: - c_max + s2_2 <= -40\n",
            "\n",
            "_C7: - c_max + s3_2 <= -80\n",
            "\n",
            "_C8: - s1_1 + s2_2 - 1000 x1_1_2_2 <= -40\n",
            "\n",
            "_C9: s1_1 - s2_2 + 1000 x1_1_2_2 <= 960\n",
            "\n",
            "_C10: - s1_2 + s2_1 - 1000 x1_2_2_1 <= -70\n",
            "\n",
            "_C11: s1_2 - s2_1 + 1000 x1_2_2_1 <= 900\n",
            "\n",
            "_C12: - s1_2 + s3_1 - 1000 x1_2_3_1 <= -70\n",
            "\n",
            "_C13: s1_2 - s3_1 + 1000 x1_2_3_1 <= 900\n",
            "\n",
            "_C14: - s1_3 + s3_2 - 1000 x1_3_3_2 <= -80\n",
            "\n",
            "_C15: s1_3 - s3_2 + 1000 x1_3_3_2 <= 950\n",
            "\n",
            "_C16: - s2_1 + s3_1 - 1000 x2_1_3_1 <= -70\n",
            "\n",
            "_C17: s2_1 - s3_1 + 1000 x2_1_3_1 <= 930\n",
            "\n",
            "VARIABLES\n",
            "c_max Continuous\n",
            "s1_1 Continuous\n",
            "s1_2 Continuous\n",
            "s1_3 Continuous\n",
            "s2_1 Continuous\n",
            "s2_2 Continuous\n",
            "s3_1 Continuous\n",
            "s3_2 Continuous\n",
            "0 <= x1_1_2_2 <= 1 Integer\n",
            "0 <= x1_2_2_1 <= 1 Integer\n",
            "0 <= x1_2_3_1 <= 1 Integer\n",
            "0 <= x1_3_3_2 <= 1 Integer\n",
            "0 <= x2_1_3_1 <= 1 Integer\n",
            "\n"
          ]
        }
      ]
    },
    {
      "cell_type": "code",
      "source": [
        "status = problem.solve()\n",
        "print(pulp.LpStatus[status])\n",
        "\n",
        "print('Cmax', c_max.value())\n",
        "for j in range(1, J+1):\n",
        "  for k in range(1, K[j]+1):\n",
        "    print('st{}_{}'.format(j,k), s_jk[j][k].value())\n",
        "\n",
        "\n",
        "for i in range(1, J):\n",
        "  for k in range(1,K[i]+1):\n",
        "    for j in range(i+1,J+1):\n",
        "      for l in range(1, K[j]+1):\n",
        "        if mu[i][k-1] == mu[j][l-1]:\n",
        "          print(i,k,j,l,  x_ikjl[i][k][j][l].value())"
      ],
      "metadata": {
        "colab": {
          "base_uri": "https://localhost:8080/"
        },
        "id": "MuVGxrAMWp08",
        "outputId": "980b4f6e-1215-447e-9090-56b8deec9f0a"
      },
      "execution_count": 107,
      "outputs": [
        {
          "output_type": "stream",
          "name": "stdout",
          "text": [
            "Optimal\n",
            "Cmax 280.0\n",
            "st1_1 0.0\n",
            "st1_2 70.0\n",
            "st1_3 170.0\n",
            "st2_1 170.0\n",
            "st2_2 240.0\n",
            "st3_1 0.0\n",
            "st3_2 90.0\n",
            "1 1 2 2 1.0\n",
            "1 2 2 1 1.0\n",
            "1 2 3 1 0.0\n",
            "1 3 3 2 0.0\n",
            "2 1 3 1 0.0\n"
          ]
        }
      ]
    }
  ]
}