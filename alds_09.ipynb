{
  "nbformat": 4,
  "nbformat_minor": 0,
  "metadata": {
    "colab": {
      "provenance": [],
      "authorship_tag": "ABX9TyNNITlxrNfDFWIU+yWcPjXN",
      "include_colab_link": true
    },
    "kernelspec": {
      "name": "python3",
      "display_name": "Python 3"
    },
    "language_info": {
      "name": "python"
    }
  },
  "cells": [
    {
      "cell_type": "markdown",
      "metadata": {
        "id": "view-in-github",
        "colab_type": "text"
      },
      "source": [
        "<a href=\"https://colab.research.google.com/github/suginouchi/lecture/blob/main/alds_09.ipynb\" target=\"_parent\"><img src=\"https://colab.research.google.com/assets/colab-badge.svg\" alt=\"Open In Colab\"/></a>"
      ]
    },
    {
      "cell_type": "markdown",
      "source": [
        "【問3】計数ソート・基数ソートの実装"
      ],
      "metadata": {
        "id": "RtgR-g2Y2cqk"
      }
    },
    {
      "cell_type": "code",
      "execution_count": null,
      "metadata": {
        "id": "TsZEYP7F2YrH"
      },
      "outputs": [],
      "source": [
        "import random\n",
        "import copy"
      ]
    },
    {
      "cell_type": "code",
      "source": [
        "def COUNTING_SORT(A,B,k):\n",
        "  C = [0] *(k+1)\n",
        "\n",
        "  for j in range(len(A)):\n",
        "    C[A[j]] += 1\n",
        "\n",
        "  print('カウント', C)\n",
        "\n",
        "  for i in range(1,k+1):\n",
        "    C[i]+=C[i-1]\n",
        "\n",
        "  # print('A', A)\n",
        "  # print('c', C)\n",
        "\n",
        "  for j in reversed(range(len(A))):\n",
        "    v = A[j]\n",
        "    c = C[v]-1\n",
        "    # print(j, v, c)\n",
        "\n",
        "    B[c] = v\n",
        "    C[v] -= 1"
      ],
      "metadata": {
        "id": "SzCQTZTu331f"
      },
      "execution_count": null,
      "outputs": []
    },
    {
      "cell_type": "code",
      "source": [
        "k = 4\n",
        "n = 10\n",
        "A= [ random.randint(0,k) for _ in range(n)]\n",
        "B = [None] * n\n",
        "print(' ---- * ---- * --ソート前-- * ---- * ---- ')\n",
        "print('A', A)\n",
        "\n",
        "COUNTING_SORT(A,B,k)\n",
        "print(' ---- * ---- * --ソート後-- * ---- * ---- ')\n",
        "print('B', B)"
      ],
      "metadata": {
        "colab": {
          "base_uri": "https://localhost:8080/"
        },
        "id": "wDCtclF96Q58",
        "outputId": "1a5c8690-32f0-47ad-9188-0c74e4cb3f5f"
      },
      "execution_count": null,
      "outputs": [
        {
          "output_type": "stream",
          "name": "stdout",
          "text": [
            " ---- * ---- * --ソート前-- * ---- * ---- \n",
            "A [2, 2, 2, 2, 1, 0, 1, 1, 1, 1]\n",
            "カウント [1, 5, 4, 0, 0]\n",
            " ---- * ---- * --ソート後-- * ---- * ---- \n",
            "B [0, 1, 1, 1, 1, 1, 2, 2, 2, 2]\n"
          ]
        }
      ]
    },
    {
      "cell_type": "code",
      "source": [
        "def COUNTING_SORT2(A,k):\n",
        "  B = [None for _ in A]\n",
        "\n",
        "  C = [0] *(k+1)\n",
        "\n",
        "  for j in range(len(A)):\n",
        "    C[A[j][1]] += 1\n",
        "\n",
        "  # print('カウント', C)\n",
        "\n",
        "  for i in range(1,k+1):\n",
        "    C[i]+=C[i-1]\n",
        "\n",
        "  # print('A', A)\n",
        "  # print('c', C)\n",
        "\n",
        "  for j in reversed(range(len(A))):\n",
        "    v = A[j][1]\n",
        "    c = C[v]-1\n",
        "    # print(j, v, c)\n",
        "\n",
        "    B[c] = A[j] #copy.deepcopy(A[j])\n",
        "    C[v] -= 1\n",
        "\n",
        "  return B\n",
        "\n",
        "# ---- * ---- * ---- *  ---- * ----\n",
        "def RADIX_SORT(A,d):\n",
        "  for i in range(d):\n",
        "      # print('{}桁目'.format(i+1))\n",
        "      for j in range(len(A)):\n",
        "        A[j][1] = (A[j][0]//(10**i))%10\n",
        "\n",
        "      # print('ソート前',A)\n",
        "      A = COUNTING_SORT2(A,9)\n",
        "      # print('ソート後',A)\n",
        "  return A"
      ],
      "metadata": {
        "id": "Ln7OT20SC5-S"
      },
      "execution_count": null,
      "outputs": []
    },
    {
      "cell_type": "code",
      "source": [
        "d = 3\n",
        "n=10\n",
        "A= [ [random.randint(10**(max(0, d-1)), 10**(max(1, d))-1), None] for _ in range(n)]\n",
        "print(' ---- * ---- * --ソート前-- * ---- * ---- ')\n",
        "print([element[0] for element in A])\n",
        "A = RADIX_SORT(A,d)\n",
        "print(' ---- * ---- * --ソート後-- * ---- * ---- ')\n",
        "print([element[0] for element in A])"
      ],
      "metadata": {
        "colab": {
          "base_uri": "https://localhost:8080/"
        },
        "id": "GvQzFWcuDIC1",
        "outputId": "bb6a1332-e9e6-4a1c-f71c-dd283a21a046"
      },
      "execution_count": null,
      "outputs": [
        {
          "output_type": "stream",
          "name": "stdout",
          "text": [
            " ---- * ---- * --ソート前-- * ---- * ---- \n",
            "[178, 755, 990, 150, 699, 675, 458, 636, 310, 722]\n",
            " ---- * ---- * --ソート後-- * ---- * ---- \n",
            "[150, 178, 310, 458, 636, 675, 699, 722, 755, 990]\n"
          ]
        }
      ]
    }
  ]
}