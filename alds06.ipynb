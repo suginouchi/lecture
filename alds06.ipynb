{
  "nbformat": 4,
  "nbformat_minor": 0,
  "metadata": {
    "colab": {
      "provenance": [],
      "authorship_tag": "ABX9TyOe6nzT1f18Y0636+EQ7HFj",
      "include_colab_link": true
    },
    "kernelspec": {
      "name": "python3",
      "display_name": "Python 3"
    },
    "language_info": {
      "name": "python"
    }
  },
  "cells": [
    {
      "cell_type": "markdown",
      "metadata": {
        "id": "view-in-github",
        "colab_type": "text"
      },
      "source": [
        "<a href=\"https://colab.research.google.com/github/suginouchi/lecture/blob/main/alds06.ipynb\" target=\"_parent\"><img src=\"https://colab.research.google.com/assets/colab-badge.svg\" alt=\"Open In Colab\"/></a>"
      ]
    },
    {
      "cell_type": "markdown",
      "source": [
        "【問1】\n",
        "2分木ヒープを使ったヒープソートの実装"
      ],
      "metadata": {
        "id": "svc8abhjfcIn"
      }
    },
    {
      "cell_type": "code",
      "source": [
        "import random\n",
        "import time"
      ],
      "metadata": {
        "id": "-zhf1XBF8cth"
      },
      "execution_count": null,
      "outputs": []
    },
    {
      "cell_type": "code",
      "source": [
        "# ----- * ---- * ----- * ---- * -----\n",
        "def PARENT(i):\n",
        "  return (i+1)//2-1\n",
        "\n",
        "# ----- * ---- * ----- * ---- * -----\n",
        "def LEFT(i):\n",
        "  return 2*(i+1)-1\n",
        "\n",
        "# ----- * ---- * ----- * ---- * -----\n",
        "def RIGHT(i):\n",
        "  return 2*(i+1)\n",
        "\n",
        "# ----- * ---- * ----- * ---- * -----\n",
        "def show(A):\n",
        "  print(\"A:\"+str(A))\n",
        "\n",
        "  # 配列Aの要素数\n",
        "  n= len(A)\n",
        "\n",
        "  # ノード番号の最大値の桁数\n",
        "  blank_length = len(str(max(A)))\n",
        "\n",
        "  for i in range(len(A)):\n",
        "\n",
        "    p_idx,l_idx,r_idx = PARENT(i) , LEFT(i), RIGHT(i)\n",
        "\n",
        "    print(\"ノード番号:\"+str(i).rjust(blank_length), end=' ')\n",
        "    print('値:'+str(A[i]).rjust(blank_length), end=' ')\n",
        "\n",
        "    # 親が存在するならprint()\n",
        "    if 0<=p_idx < i:\n",
        "      print(\"PARENT:\" + str(A[p_idx]).rjust(blank_length), end=' ')\n",
        "\n",
        "    # 親が存在しないなら，空白で埋める\n",
        "    else:\n",
        "      print(\" \"*(8+blank_length), end='')\n",
        "\n",
        "    # LEFT()が存在するならprint()\n",
        "    if l_idx < n:\n",
        "      print(\"LEFT:\" + str(A[l_idx]).rjust(blank_length), end=' ')\n",
        "\n",
        "      # RIGHT()が存在するならprint()\n",
        "      if r_idx < n:\n",
        "        print('RIGHT:'+str(A[r_idx]).rjust(blank_length), end=' ')\n",
        "\n",
        "    print(\"\")\n",
        "\n",
        "# ----- * ---- * ----- * ---- * -----\n",
        "def MAX_HEAPIFY(A,i,heap_size) :\n",
        "\n",
        "  l=LEFT(i)\n",
        "  r=RIGHT(i)\n",
        "\n",
        "  if l<heap_size and A[l]>A[i]:\n",
        "    largest = l\n",
        "  else:\n",
        "    largest = i\n",
        "\n",
        "  if r < heap_size and A[r] > A[largest]:\n",
        "    largest = r\n",
        "\n",
        "  if largest != i:\n",
        "    # print(\"before\", A)\n",
        "    A[i], A[largest] = A[largest], A[i]\n",
        "    # print(\"after\", A)\n",
        "\n",
        "    MAX_HEAPIFY(A,largest,heap_size)\n",
        "\n",
        "# ----- * ---- * ----- * ---- * -----\n",
        "def BUILD_MAX_HEAP(A):\n",
        "\n",
        "  heap_size = len(A)\n",
        "\n",
        "  for i in reversed(range(len(A)//2)):\n",
        "    MAX_HEAPIFY(A, i, heap_size)"
      ],
      "metadata": {
        "id": "6ZLT_glt-24y"
      },
      "execution_count": null,
      "outputs": []
    },
    {
      "cell_type": "code",
      "source": [
        "def HEAPSORT(A):\n",
        "  BUILD_MAX_HEAP(A)\n",
        "\n",
        "  # show(A)\n",
        "  heap_size = len(A)\n",
        "\n",
        "  for i in reversed(range(1, len(A))):\n",
        "    A[0], A[i]= A[i], A[0]\n",
        "    heap_size -=1\n",
        "    MAX_HEAPIFY(A, 0, heap_size)\n"
      ],
      "metadata": {
        "id": "P5yJCayXCJB1"
      },
      "execution_count": null,
      "outputs": []
    },
    {
      "cell_type": "code",
      "source": [
        "n,k = 100, 20\n",
        "#n: 配列Aの各要素が取りうる値の最大値\n",
        "#k: 配列Aの長さ\n",
        "A =random.sample(range(1, n+1), k=k)\n",
        "\n",
        "\n",
        "print('HEAPSORT実行前', A)\n",
        "HEAPSORT(A)\n",
        "print('HEAPSORT実行後', A)\n"
      ],
      "metadata": {
        "colab": {
          "base_uri": "https://localhost:8080/"
        },
        "id": "_N4d3y0ArQ8Y",
        "outputId": "82abed3e-e4c0-4b6d-8381-ba82704c3a33"
      },
      "execution_count": null,
      "outputs": [
        {
          "output_type": "stream",
          "name": "stdout",
          "text": [
            "HEAPSORT実行前 [93, 62, 69, 73, 92, 22, 39, 88, 46, 52, 56, 45, 48, 90, 5, 84, 42, 60, 31, 63]\n",
            "HEAPSORT実行後 [5, 22, 31, 39, 42, 45, 46, 48, 52, 56, 60, 62, 63, 69, 73, 84, 88, 90, 92, 93]\n"
          ]
        }
      ]
    },
    {
      "cell_type": "markdown",
      "source": [
        "【問2】\n",
        "min優先度付きキューの実装"
      ],
      "metadata": {
        "id": "jtrYY04z4ghe"
      }
    },
    {
      "cell_type": "code",
      "source": [
        "# listを継承したクラスHEAPを定義\n",
        "class HEAP(list):\n",
        "  def __init__(self, n,k):\n",
        "    for i in (random.sample(range(1, n+1), k=k)):\n",
        "      self.append(i)\n",
        "    self.heap_size = len(self)\n",
        "\n",
        "  def __str__(self):\n",
        "    return str(self[:self.heap_size])\n",
        "\n",
        "\n",
        "  # ----- * ---- * ----- * ---- * -----\n",
        "  def show(self):\n",
        "    print(\"A:\"+str(self))\n",
        "\n",
        "    # ノード番号の最大値の桁数\n",
        "    blank_length = len(str(max(A[:self.heap_size])))\n",
        "\n",
        "    for i in range(self.heap_size):\n",
        "\n",
        "      p_idx,l_idx,r_idx = PARENT(i) , LEFT(i), RIGHT(i)\n",
        "\n",
        "      print(\"ノード番号:\"+str(i).rjust(blank_length), end=' ')\n",
        "      print('値:'+str(self[i]).rjust(blank_length), end=' ')\n",
        "\n",
        "      # 親が存在するならprint()\n",
        "      if 0<=p_idx < i:\n",
        "        print(\"PARENT:\" + str(self[p_idx]).rjust(blank_length), end=' ')\n",
        "\n",
        "      # 親が存在しないなら，空白で埋める\n",
        "      else:\n",
        "        print(\" \"*(8+blank_length), end='')\n",
        "\n",
        "      # LEFT()が存在するならprint()\n",
        "      if l_idx < self.heap_size:\n",
        "        print(\"LEFT:\" + str(self[l_idx]).rjust(blank_length), end=' ')\n",
        "\n",
        "        # RIGHT()が存在するならprint()\n",
        "        if r_idx < self.heap_size:\n",
        "          print('RIGHT:'+str(self[r_idx]).rjust(blank_length), end=' ')\n",
        "\n",
        "      print(\"\")"
      ],
      "metadata": {
        "id": "jQ3s0ZB_4iZm"
      },
      "execution_count": null,
      "outputs": []
    },
    {
      "cell_type": "code",
      "source": [
        "# ----- * ---- * ----- * ---- * -----\n",
        "def MIN_HEAPIFY(A, i):\n",
        "  l=LEFT(i)\n",
        "  r=RIGHT(i)\n",
        "\n",
        "  if l<A.heap_size and A[l]<A[i]:\n",
        "    smallest = l\n",
        "  else:\n",
        "    smallest = i\n",
        "\n",
        "  if r < A.heap_size and A[r] < A[smallest]:\n",
        "    smallest = r\n",
        "\n",
        "  if smallest != i:\n",
        "    # print(\"before\", A)\n",
        "    A[i], A[smallest] = A[smallest], A[i]\n",
        "    # print(\"after\", A)\n",
        "\n",
        "    MIN_HEAPIFY(A,smallest)\n",
        "\n",
        "# ----- * ---- * ----- * ---- * -----\n",
        "def BUILD_MIN_HEAP(A):\n",
        "\n",
        "  for i in reversed(range(len(A)//2)):\n",
        "    MIN_HEAPIFY(A, i)"
      ],
      "metadata": {
        "id": "Y9_-0NwgAkPu"
      },
      "execution_count": null,
      "outputs": []
    },
    {
      "cell_type": "code",
      "source": [
        "# ----- * ---- * ----- * ---- * -----\n",
        "def HEAP_MINIMUM(A):\n",
        "  return A[0]\n",
        "\n",
        "# ----- * ---- * ----- * ---- * -----\n",
        "def HEAP_EXTRACT_MIN(A):\n",
        "\n",
        "  head = A[0]\n",
        "  A[0] = A[A.heap_size-1]\n",
        "\n",
        "  A.heap_size -= 1\n",
        "\n",
        "  MIN_HEAPIFY(A,0)\n",
        "\n",
        "  return head\n",
        "\n",
        "# ----- * ---- * ----- * ---- * -----\n",
        "def HEAP_DECREASE_KEY(A,i,key):\n",
        "  if A[i] < key:\n",
        "    print(\"新しいキーは現在のキーよりも大きいので何もしない\")\n",
        "\n",
        "  A[i]=key\n",
        "\n",
        "  while i>0 and A[i] < A[PARENT(i)]:\n",
        "    A[i], A[PARENT(i)] = A[PARENT(i)], A[i]\n",
        "    i = PARENT(i)\n",
        "\n",
        "# ----- * ---- * ----- * ---- * -----\n",
        "def MIN_HEAP_INSERT(A,key):\n",
        "  A.heap_size +=1\n",
        "  if len(A)<A.heap_size:\n",
        "    A.append(float('inf'))\n",
        "  else:\n",
        "    A[A.heap_size-1] = float(\"inf\")\n",
        "\n",
        "  HEAP_DECREASE_KEY(A, A.heap_size-1, key)"
      ],
      "metadata": {
        "id": "_Pc6l3vd7cFY"
      },
      "execution_count": null,
      "outputs": []
    },
    {
      "cell_type": "code",
      "source": [
        "n,k = 20, 13\n",
        "#n: 配列Aの各要素が取りうる値の最大値\n",
        "#k: 配列Aの長さ\n",
        "\n",
        "# ---- * ---- * ---- * ---- * ---- * ---- * ----\n",
        "# ヒープオブジェクトを作る\n",
        "A = HEAP(n,k)\n",
        "print('Aを作成')\n",
        "print(A)\n",
        "print('---- * ---- * ---- * ---- * ----')\n",
        "\n",
        "# ---- * ---- * ---- * ---- * ---- * ---- * ----\n",
        "# minヒープ条件を満たすように修正\n",
        "BUILD_MIN_HEAP(A)\n",
        "print('BUILD_MIN_HEAP')\n",
        "print(A)\n",
        "print('---- * ---- * ---- * ---- * ----')\n",
        "\n",
        "# ---- * ---- * ---- * ---- * ---- * ---- * ----\n",
        "# 先頭のイベントの削除\n",
        "print(\"EXTRACT-MIN 先頭：\", HEAP_EXTRACT_MIN(A))\n",
        "print(A)\n",
        "\n",
        "print(\"EXTRACT-MIN 先頭：\", HEAP_EXTRACT_MIN(A))\n",
        "print(A)\n",
        "\n",
        "print(\"EXTRACT-MIN 先頭：\", HEAP_EXTRACT_MIN(A))\n",
        "print(A)\n",
        "\n",
        "# A.show()\n",
        "print('---- * ---- * ---- * ---- * ----')\n",
        "\n",
        "# ---- * ---- * ---- * ---- * ---- * ---- * ----\n",
        "# 新しいイベントの追加\n",
        "MIN_HEAP_INSERT(A, 1)\n",
        "print('MIN_HEAP_INSERT')\n",
        "print(A)\n",
        "\n",
        "MIN_HEAP_INSERT(A, 22)\n",
        "print('MIN_HEAP_INSERT')\n",
        "print(A)\n",
        "\n",
        "MIN_HEAP_INSERT(A, 30)\n",
        "print('MIN_HEAP_INSERT')\n",
        "print(A)\n",
        "\n",
        "# A.show()\n",
        "print('---- * ---- * ---- * ---- * ----')\n",
        "\n",
        "# ---- * ---- * ---- * ---- * ---- * ---- * ----\n",
        "# キーの更新\n",
        "HEAP_DECREASE_KEY(A, 4, 2)  # A[4]を2に変更してminヒープ化．\n",
        "print('HEAP_DECREASE_KEY')\n",
        "print(A)\n",
        "\n",
        "HEAP_DECREASE_KEY(A, 10, 3)  # A[10]を3に変更してminヒープ化．\n",
        "print('HEAP_DECREASE_KEY')\n",
        "print(A)\n",
        "\n",
        "\n",
        "# A.show()\n",
        "print('---- * ---- * ---- * ---- * ----')\n",
        "\n"
      ],
      "metadata": {
        "colab": {
          "base_uri": "https://localhost:8080/"
        },
        "id": "4JGHjVMEDhY8",
        "outputId": "85fdbb40-9ed8-49be-b1a3-eb9a3f1b19c0"
      },
      "execution_count": null,
      "outputs": [
        {
          "output_type": "stream",
          "name": "stdout",
          "text": [
            "Aを作成\n",
            "[9, 8, 1, 15, 6, 14, 12, 4, 20, 10, 11, 5, 16]\n",
            "---- * ---- * ---- * ---- * ----\n",
            "BUILD_MIN_HEAP\n",
            "[1, 4, 5, 8, 6, 9, 12, 15, 20, 10, 11, 14, 16]\n",
            "---- * ---- * ---- * ---- * ----\n",
            "EXTRACT-MIN 先頭： 1\n",
            "[4, 6, 5, 8, 10, 9, 12, 15, 20, 16, 11, 14]\n",
            "EXTRACT-MIN 先頭： 4\n",
            "[5, 6, 9, 8, 10, 14, 12, 15, 20, 16, 11]\n",
            "EXTRACT-MIN 先頭： 5\n",
            "[6, 8, 9, 11, 10, 14, 12, 15, 20, 16]\n",
            "---- * ---- * ---- * ---- * ----\n",
            "MIN_HEAP_INSERT\n",
            "[1, 6, 9, 11, 8, 14, 12, 15, 20, 16, 10]\n",
            "MIN_HEAP_INSERT\n",
            "[1, 6, 9, 11, 8, 14, 12, 15, 20, 16, 10, 22]\n",
            "MIN_HEAP_INSERT\n",
            "[1, 6, 9, 11, 8, 14, 12, 15, 20, 16, 10, 22, 30]\n",
            "---- * ---- * ---- * ---- * ----\n",
            "HEAP_DECREASE_KEY\n",
            "[1, 2, 9, 11, 6, 14, 12, 15, 20, 16, 10, 22, 30]\n",
            "HEAP_DECREASE_KEY\n",
            "[1, 2, 9, 11, 3, 14, 12, 15, 20, 16, 6, 22, 30]\n",
            "---- * ---- * ---- * ---- * ----\n"
          ]
        }
      ]
    },
    {
      "cell_type": "markdown",
      "source": [
        "【問3】\n",
        "メモ化再帰を用いて，フィボナッチ数列の$n$ 項目を出力する関数Fibonacciを作る．\n",
        "\n",
        "$F(n) = \\begin{cases}\n",
        "    1 & (n = 0 \\  \\textrm{or} \\  n=1 ) \\\\\n",
        "    F(n-1) + F(n-2) & (2 \\le n)\n",
        "  \\end{cases}$\n",
        "\n",
        "  \n",
        "途中に行った計算結果を配列Fに記録することで，\n",
        "同じ計算が繰り返し行なわれることを防ぐ．"
      ],
      "metadata": {
        "id": "yrQmnz7jDhKG"
      }
    },
    {
      "cell_type": "code",
      "source": [
        "# メモ化再帰フィボナッチ\n",
        "def MemoizationFibonacci(n,F):\n",
        "\n",
        "  if 0<=F[n]:\n",
        "    return F[n]\n",
        "  elif 0<=n<=1:\n",
        "    F[n]= 1\n",
        "    return 1\n",
        "  else:\n",
        "    F[n] = MemoizationFibonacci(n-1,F) + MemoizationFibonacci(n-2, F)\n",
        "    return F[n]\n",
        "\n",
        "# ---- * ---- * ---- * ---- * ----\n",
        "# 工夫なしのフィボナッチ\n",
        "def Fibonacci(n):\n",
        "\n",
        "  if 0<=n<=1:\n",
        "    return 1\n",
        "  else:\n",
        "    return Fibonacci(n-1) + Fibonacci(n-2)"
      ],
      "metadata": {
        "id": "XYaAu9JHtMtd"
      },
      "execution_count": null,
      "outputs": []
    },
    {
      "cell_type": "code",
      "source": [
        "n=40\n",
        "\n",
        "print(\"メモ化再帰\")\n",
        "t1=time.perf_counter()\n",
        "F= [-1 for _ in range(n+1)]\n",
        "print(n , MemoizationFibonacci(n, F))\n",
        "t2=time.perf_counter()\n",
        "print('実行時間', t2-t1, '[ms]')\n",
        "\n",
        "print(\" ---- * ---- * ---- * ---- * ---- \")\n",
        "print(\"通常の再帰\")\n",
        "t1=time.perf_counter()\n",
        "print(n , Fibonacci(n))\n",
        "t2=time.perf_counter()\n",
        "print('実行時間', t2-t1, '[ms]')\n"
      ],
      "metadata": {
        "colab": {
          "base_uri": "https://localhost:8080/"
        },
        "id": "epd8oCait6iW",
        "outputId": "80c7c0cd-b6e0-4716-9ee3-047d93438afb"
      },
      "execution_count": null,
      "outputs": [
        {
          "output_type": "stream",
          "name": "stdout",
          "text": [
            "メモ化再帰\n",
            "40 165580141\n",
            "実行時間 0.0014645060000475496 [ms]\n",
            " ---- * ---- * ---- * ---- * ---- \n",
            "通常の再帰\n",
            "40 165580141\n",
            "実行時間 58.73235672499999 [ms]\n"
          ]
        }
      ]
    }
  ]
}