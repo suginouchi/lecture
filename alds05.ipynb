{
  "nbformat": 4,
  "nbformat_minor": 0,
  "metadata": {
    "colab": {
      "provenance": [],
      "authorship_tag": "ABX9TyNmOpNt3os3gCvyb6EdSkC0",
      "include_colab_link": true
    },
    "kernelspec": {
      "name": "python3",
      "display_name": "Python 3"
    },
    "language_info": {
      "name": "python"
    }
  },
  "cells": [
    {
      "cell_type": "markdown",
      "metadata": {
        "id": "view-in-github",
        "colab_type": "text"
      },
      "source": [
        "<a href=\"https://colab.research.google.com/github/suginouchi/lecture/blob/main/alds05.ipynb\" target=\"_parent\"><img src=\"https://colab.research.google.com/assets/colab-badge.svg\" alt=\"Open In Colab\"/></a>"
      ]
    },
    {
      "cell_type": "markdown",
      "source": [
        "【問1】 2分木**min**ヒープの実装\n",
        "\n",
        "\n",
        "次の関数を実装する\n",
        "- PARENT()\n",
        "- LEFT()\n",
        "- RIGHT()\n",
        "- MAX-HEAPIFY()\n",
        "- BUILD-MAX-HEAP()\n",
        "\n",
        "- show()"
      ],
      "metadata": {
        "id": "XQDjEzd3QaI7"
      }
    },
    {
      "cell_type": "code",
      "source": [
        "def PARENT1(i):\n",
        "  return (i+1)//2-1\n",
        "\n",
        "#############\n",
        "def LEFT1(i):\n",
        "  return 2*(i+1)-1\n",
        "\n",
        "#############\n",
        "def RIGHT1(i):\n",
        "  return 2*(i+1)"
      ],
      "metadata": {
        "id": "xieqfEn3Z9wd"
      },
      "execution_count": 3,
      "outputs": []
    },
    {
      "cell_type": "code",
      "source": [
        "def show1(A):\n",
        "  print(\"A:\"+str(A))\n",
        "\n",
        "  # 配列Aの要素数\n",
        "  n= len(A)\n",
        "\n",
        "  # ノード番号の最大値の桁数\n",
        "  blank_length = len(str(max(A)))\n",
        "\n",
        "  for i in range(len(A)):\n",
        "\n",
        "    p_idx,l_idx,r_idx = PARENT1(i) , LEFT1(i), RIGHT1(i)\n",
        "\n",
        "    print(\"ノード番号:\"+str(i).rjust(blank_length), end=' ')\n",
        "    print('値:'+str(A[i]).rjust(blank_length), end=' ')\n",
        "\n",
        "    # 親が存在するならprint()\n",
        "    if 0<=p_idx < i:\n",
        "      print(\"PARENT:\" + str(A[p_idx]).rjust(blank_length), end=' ')\n",
        "\n",
        "    # 親が存在しないなら，空白で埋める\n",
        "    else:\n",
        "      print(\" \"*(8+blank_length), end='')\n",
        "\n",
        "    # LEFT()が存在するならprint()\n",
        "    if l_idx < n:\n",
        "      print(\"LEFT:\" + str(A[l_idx]).rjust(blank_length), end=' ')\n",
        "\n",
        "      # RIGHT()が存在するならprint()\n",
        "      if r_idx < n:\n",
        "        print('RIGHT:'+str(A[r_idx]).rjust(blank_length), end=' ')\n",
        "\n",
        "    print(\"\")"
      ],
      "metadata": {
        "id": "T5GGEnbJaR4G"
      },
      "execution_count": 1,
      "outputs": []
    },
    {
      "cell_type": "code",
      "source": [
        "def MAX_HEAPIFY1(A,i) :\n",
        "\n",
        "  n=len(A)\n",
        "  l=LEFT1(i)\n",
        "  r=RIGHT1(i)\n",
        "\n",
        "  if l<n and A[l]>A[i]:\n",
        "    largest = l\n",
        "  else:\n",
        "    largest = i\n",
        "\n",
        "  if r < n and A[r] > A[largest]:\n",
        "    largest = r\n",
        "\n",
        "  if largest != i:\n",
        "    # print(\"before\", A)\n",
        "    A[i], A[largest] = A[largest], A[i]\n",
        "    # print(\"after\", A)\n",
        "\n",
        "    MAX_HEAPIFY1(A,largest)"
      ],
      "metadata": {
        "id": "p6Q8qRC4rkXn"
      },
      "execution_count": 7,
      "outputs": []
    },
    {
      "cell_type": "code",
      "source": [
        "def BUILD_MAX_HEAP1(A):\n",
        "\n",
        "  for i in reversed(range(len(A)//2)):\n",
        "    MAX_HEAPIFY1(A,i)\n"
      ],
      "metadata": {
        "id": "yvYB4Z9ti7xS"
      },
      "execution_count": 6,
      "outputs": []
    },
    {
      "cell_type": "code",
      "source": [
        "A=[4,1,3,2,16,9,10,14,8,7]\n",
        "\n",
        "print('---- * ---- * ---- * ----')\n",
        "print('BUILD_MAX_HEAP1(A)実行前')\n",
        "show1(A)\n",
        "\n",
        "print('---- * ---- * ---- * ----')\n",
        "print('BUILD_MAX_HEAP1(A)実行後')\n",
        "BUILD_MAX_HEAP1(A)\n",
        "show1(A)\n",
        "\n",
        "\n",
        "# import random\n",
        "\n",
        "# # A=list(range(1,11))\n",
        "# # random.shuffle(A)\n",
        "\n",
        "# print(A)\n",
        "\n",
        "# BUILD_MAX_HEAP(A)\n",
        "\n",
        "# MAX_HEAPIFY(A, 0)\n",
        "\n",
        "# show(A)\n"
      ],
      "metadata": {
        "colab": {
          "base_uri": "https://localhost:8080/"
        },
        "id": "Xh2e8cUibBsi",
        "outputId": "cee836c5-9a03-4ffa-de1f-1dff324409fa"
      },
      "execution_count": 8,
      "outputs": [
        {
          "output_type": "stream",
          "name": "stdout",
          "text": [
            "---- * ---- * ---- * ----\n",
            "BUILD_MAX_HEAP1(A)実行前\n",
            "A:[4, 1, 3, 2, 16, 9, 10, 14, 8, 7]\n",
            "ノード番号: 0 値: 4           LEFT: 1 RIGHT: 3 \n",
            "ノード番号: 1 値: 1 PARENT: 4 LEFT: 2 RIGHT:16 \n",
            "ノード番号: 2 値: 3 PARENT: 4 LEFT: 9 RIGHT:10 \n",
            "ノード番号: 3 値: 2 PARENT: 1 LEFT:14 RIGHT: 8 \n",
            "ノード番号: 4 値:16 PARENT: 1 LEFT: 7 \n",
            "ノード番号: 5 値: 9 PARENT: 3 \n",
            "ノード番号: 6 値:10 PARENT: 3 \n",
            "ノード番号: 7 値:14 PARENT: 2 \n",
            "ノード番号: 8 値: 8 PARENT: 2 \n",
            "ノード番号: 9 値: 7 PARENT:16 \n",
            "---- * ---- * ---- * ----\n",
            "BUILD_MAX_HEAP1(A)実行後\n",
            "A:[16, 14, 10, 8, 7, 9, 3, 2, 4, 1]\n",
            "ノード番号: 0 値:16           LEFT:14 RIGHT:10 \n",
            "ノード番号: 1 値:14 PARENT:16 LEFT: 8 RIGHT: 7 \n",
            "ノード番号: 2 値:10 PARENT:16 LEFT: 9 RIGHT: 3 \n",
            "ノード番号: 3 値: 8 PARENT:14 LEFT: 2 RIGHT: 4 \n",
            "ノード番号: 4 値: 7 PARENT:14 LEFT: 1 \n",
            "ノード番号: 5 値: 9 PARENT:10 \n",
            "ノード番号: 6 値: 3 PARENT:10 \n",
            "ノード番号: 7 値: 2 PARENT: 8 \n",
            "ノード番号: 8 値: 4 PARENT: 8 \n",
            "ノード番号: 9 値: 1 PARENT: 7 \n"
          ]
        }
      ]
    },
    {
      "cell_type": "markdown",
      "source": [
        "【問2】$d$ 分木を作る．\n",
        "\n",
        "次の関数を実装する\n",
        "- PARENT2()\n",
        "- CHILD2()\n",
        "- MAX-HEAPIFY2()\n",
        "- BUILD-MAX-HEAP2()\n",
        "\n",
        "- show2()"
      ],
      "metadata": {
        "id": "8Q8byXg9ChP1"
      }
    },
    {
      "cell_type": "code",
      "source": [
        "def PARENT2(i, d):\n",
        " return (i+d-1)//d-1\n",
        "\n",
        "###################\n",
        "def CHILD2(i, j, d):\n",
        "  return d*i + j\n"
      ],
      "metadata": {
        "id": "m1ZGMVo2Ch1K"
      },
      "execution_count": null,
      "outputs": []
    },
    {
      "cell_type": "code",
      "source": [
        "def show2(A, d):\n",
        "  print(\"A:\"+str(A))\n",
        "\n",
        "  n= len(A)\n",
        "  length_d = len(str(d))\n",
        "\n",
        "  # ノード番号の最大値の桁数\n",
        "  blank_length = len(str(max(A)))\n",
        "\n",
        "  for i in range(len(A)):\n",
        "\n",
        "    p_idx = PARENT2(i,d)\n",
        "\n",
        "    # 要素iのCHILDをリストに入れる\n",
        "    c_idx = []\n",
        "    for j in range(1, d+1):\n",
        "      c_idx.append(CHILD2(i,j,d))\n",
        "\n",
        "    # print(c_idx)\n",
        "\n",
        "    print(\"ノード番号:\"+str(i).rjust(blank_length), end=' ')\n",
        "    print('値:'+str(A[i]).rjust(blank_length), end=' ')\n",
        "\n",
        "    # 親が存在するならprint()\n",
        "    if 0<=p_idx < i:\n",
        "      print(\"PARENT:\" + str(A[p_idx]).rjust(blank_length), end=' ')\n",
        "\n",
        "    # 親が存在しないなら，空白で埋める\n",
        "    else:\n",
        "      print(\" \"*(8+blank_length), end='')\n",
        "\n",
        "    # j番目の子供が存在するならprint()\n",
        "    for i, c in enumerate(c_idx):\n",
        "      if c<n:\n",
        "        print(str(i+1).rjust(d)+\"番目\" + str(A[c]).rjust(blank_length), end=' ')\n",
        "\n",
        "\n",
        "    print(\"\")"
      ],
      "metadata": {
        "id": "AsP-2yxPdhRr"
      },
      "execution_count": null,
      "outputs": []
    },
    {
      "cell_type": "code",
      "source": [
        "def MAX_HEAPIFY2(A,i,d) :\n",
        "\n",
        "  n=len(A)\n",
        "\n",
        "  c_idx = []\n",
        "  for j in range(1, d+1):\n",
        "    c_idx.append(CHILD2(i,j,d))\n",
        "\n",
        "\n",
        "  # 自分と，自分の子どもたちの中で最大値を調べる．\n",
        "  largest = i\n",
        "  for c in c_idx:\n",
        "    if c<n and A[largest]<A[c]:\n",
        "      largest = c\n",
        "\n",
        "  # 自分が最大値じゃないなら，最大値と交換．\n",
        "  # その後，交換後の自分に対してMAX_HEAPFY()を再度呼ぶ．\n",
        "  if largest != i:\n",
        "    # print(\"before\", A)\n",
        "    A[i], A[largest] = A[largest], A[i]\n",
        "    # print('after', A)\n",
        "    MAX_HEAPIFY2(A,largest,d)\n",
        "  # else:\n",
        "    # print('交換なし')\n"
      ],
      "metadata": {
        "id": "1Pq4Ck2Qitbb"
      },
      "execution_count": null,
      "outputs": []
    },
    {
      "cell_type": "code",
      "source": [
        "def BUILD_MAX_HEAP2(A,d):\n",
        "\n",
        "  for i in reversed(range(len(A)//d)):\n",
        "    MAX_HEAPIFY2(A,i,d)"
      ],
      "metadata": {
        "id": "EeWabIjHlpXl"
      },
      "execution_count": null,
      "outputs": []
    },
    {
      "cell_type": "code",
      "source": [
        "A=[4,1,3,2,16,9,10,14,8,7]\n",
        "heap_size=len(A)\n",
        "d = 3\n",
        "print('---- * ---- * ---- * ----')\n",
        "print(str(d)+'分木maxヒープ')\n",
        "BUILD_MAX_HEAP2(A,d)\n",
        "show2(A, d)"
      ],
      "metadata": {
        "colab": {
          "base_uri": "https://localhost:8080/"
        },
        "id": "-4J6pu82esa6",
        "outputId": "1665cf09-2426-42a9-c966-84b5a4e267be"
      },
      "execution_count": null,
      "outputs": [
        {
          "output_type": "stream",
          "name": "stdout",
          "text": [
            "---- * ---- * ---- * ----\n",
            "3分木maxヒープ\n",
            "A:[16, 10, 14, 2, 1, 9, 4, 3, 8, 7]\n",
            "ノード番号: 0 値:16             1番目10   2番目14   3番目 2 \n",
            "ノード番号: 1 値:10 PARENT:16   1番目 1   2番目 9   3番目 4 \n",
            "ノード番号: 2 値:14 PARENT:16   1番目 3   2番目 8   3番目 7 \n",
            "ノード番号: 3 値: 2 PARENT:16 \n",
            "ノード番号: 4 値: 1 PARENT:10 \n",
            "ノード番号: 5 値: 9 PARENT:10 \n",
            "ノード番号: 6 値: 4 PARENT:10 \n",
            "ノード番号: 7 値: 3 PARENT:14 \n",
            "ノード番号: 8 値: 8 PARENT:14 \n",
            "ノード番号: 9 値: 7 PARENT:14 \n"
          ]
        }
      ]
    }
  ]
}