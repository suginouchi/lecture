{
  "nbformat": 4,
  "nbformat_minor": 0,
  "metadata": {
    "colab": {
      "provenance": [],
      "authorship_tag": "ABX9TyN8vfxDcOBWMGQ3tU3ZZZP/",
      "include_colab_link": true
    },
    "kernelspec": {
      "name": "python3",
      "display_name": "Python 3"
    },
    "language_info": {
      "name": "python"
    }
  },
  "cells": [
    {
      "cell_type": "markdown",
      "metadata": {
        "id": "view-in-github",
        "colab_type": "text"
      },
      "source": [
        "<a href=\"https://colab.research.google.com/github/suginouchi/lecture/blob/main/2023_pom_ex6.ipynb\" target=\"_parent\"><img src=\"https://colab.research.google.com/assets/colab-badge.svg\" alt=\"Open In Colab\"/></a>"
      ]
    },
    {
      "cell_type": "markdown",
      "source": [],
      "metadata": {
        "id": "TqfViWa974q7"
      }
    },
    {
      "cell_type": "markdown",
      "source": [
        "まずはPuLPライブラリをインストール．その後import．"
      ],
      "metadata": {
        "id": "S8sLrzsR767X"
      }
    },
    {
      "cell_type": "code",
      "execution_count": null,
      "metadata": {
        "colab": {
          "base_uri": "https://localhost:8080/"
        },
        "id": "KX0Vt1hw7MSs",
        "outputId": "d2714ed2-6421-4618-e04c-58001eb486a7"
      },
      "outputs": [
        {
          "output_type": "stream",
          "name": "stdout",
          "text": [
            "Looking in indexes: https://pypi.org/simple, https://us-python.pkg.dev/colab-wheels/public/simple/\n",
            "Collecting pulp\n",
            "  Downloading PuLP-2.7.0-py3-none-any.whl (14.3 MB)\n",
            "\u001b[2K     \u001b[90m━━━━━━━━━━━━━━━━━━━━━━━━━━━━━━━━━━━━━━━━\u001b[0m \u001b[32m14.3/14.3 MB\u001b[0m \u001b[31m98.6 MB/s\u001b[0m eta \u001b[36m0:00:00\u001b[0m\n",
            "\u001b[?25hInstalling collected packages: pulp\n",
            "Successfully installed pulp-2.7.0\n"
          ]
        }
      ],
      "source": [
        "!pip install pulp\n",
        "import pulp"
      ]
    },
    {
      "cell_type": "markdown",
      "source": [
        "問題（lp1）と，製品A~Cの生産量を表す変数X1〜X3を登録する．\\n\n",
        "生産量が負の値になることはないので，looBoundは0，upBoundはその製品の需要量とする．"
      ],
      "metadata": {
        "id": "xkaxz-E08QkW"
      }
    },
    {
      "cell_type": "code",
      "source": [
        "lp1 = pulp.LpProblem('lp1', sense=pulp.LpMaximize)  \n",
        "X1 = pulp.LpVariable('X1', lowBound=0, upBound=2000)  # LowBoud=0を指定することで制約条件（４）を表現できる。\n",
        "X2 = pulp.LpVariable('X2', lowBound=0, upBound=3000) \n",
        "X3 = pulp.LpVariable('X3', lowBound=0, upBound=5000)  "
      ],
      "metadata": {
        "id": "UNx8-EFp74ea"
      },
      "execution_count": null,
      "outputs": []
    },
    {
      "cell_type": "markdown",
      "source": [
        "まずは目的関数を設定．"
      ],
      "metadata": {
        "id": "uDeOElnCGiz2"
      }
    },
    {
      "cell_type": "code",
      "source": [
        "lp1+= 50 * X1 + 80 * X2 + 100 * X3"
      ],
      "metadata": {
        "id": "cunsE4R_GiGm"
      },
      "execution_count": null,
      "outputs": []
    },
    {
      "cell_type": "markdown",
      "source": [
        "次に制約式を追加． 各式の係数を別で保持しておいてfor文で一気に登録することもできる．（ただし今回は制約式が2本しかないのでそうすることの旨味はほぼない．）"
      ],
      "metadata": {
        "id": "-4K72EXBG3E7"
      }
    },
    {
      "cell_type": "code",
      "source": [
        "for C in [[4,4,10,60000],[5,12,6,60000]]:\n",
        "  lp1 += C[0] * X1 + C[1] * X2 + C[2] * X3 <= C[3]"
      ],
      "metadata": {
        "id": "t6gG0UyXGe4h"
      },
      "execution_count": null,
      "outputs": []
    },
    {
      "cell_type": "markdown",
      "source": [
        "念の為print()関数を使って，意図通りに問題が登録されているかを確認"
      ],
      "metadata": {
        "id": "ThxPv8XBIOO1"
      }
    },
    {
      "cell_type": "code",
      "source": [
        "print(lp1)"
      ],
      "metadata": {
        "colab": {
          "base_uri": "https://localhost:8080/"
        },
        "id": "5yUShAVk7xY3",
        "outputId": "561cda84-8bd7-4a93-ed12-3c9f807dcdd7"
      },
      "execution_count": null,
      "outputs": [
        {
          "output_type": "stream",
          "name": "stdout",
          "text": [
            "lp1:\n",
            "MAXIMIZE\n",
            "50*X1 + 80*X2 + 100*X3 + 0\n",
            "SUBJECT TO\n",
            "_C1: 4 X1 + 4 X2 + 10 X3 <= 60000\n",
            "\n",
            "_C2: 5 X1 + 12 X2 + 6 X3 <= 60000\n",
            "\n",
            "VARIABLES\n",
            "X1 <= 2000 Continuous\n",
            "X2 <= 3000 Continuous\n",
            "X3 <= 5000 Continuous\n",
            "\n"
          ]
        }
      ]
    },
    {
      "cell_type": "code",
      "source": [
        "status = lp1.solve()\n",
        "print(pulp.LpStatus[status])\n",
        "\n",
        "print('Optimal solution: (X1, X2, X3) = ({}, {}, {})'.format(X1.value(), X2.value(), X3.value()))\n",
        "print('Objective function value: f = {}'.format(lp1.objective.value()))"
      ],
      "metadata": {
        "colab": {
          "base_uri": "https://localhost:8080/"
        },
        "id": "MQCGbYQ3c6bF",
        "outputId": "00bd4535-323b-4202-812a-f6e98896d533"
      },
      "execution_count": null,
      "outputs": [
        {
          "output_type": "stream",
          "name": "stdout",
          "text": [
            "Optimal\n",
            "Optimal solution: (X1, X2, X3) = (0.0, 2500.0, 5000.0)\n",
            "Objective function value: f = 700000.0\n"
          ]
        }
      ]
    },
    {
      "cell_type": "markdown",
      "source": [
        "Ex 6-2 機械の利用可能時間を1500[時間]（=90000[min]）に変更するとどうなるかを調べる．"
      ],
      "metadata": {
        "id": "VQgmqQHJd1Bo"
      }
    },
    {
      "cell_type": "code",
      "source": [
        "lp2 = pulp.LpProblem('lp2', sense=pulp.LpMaximize)  \n",
        "lp2+= 50 * X1 + 80 * X2 + 100 * X3\n",
        "for C in [[4,4,10,60000],[5,12,6,90000]]: # 機械の利用時間だけを変更する．\n",
        "  lp2 += C[0] * X1 + C[1] * X2 + C[2] * X3 <= C[3]\n",
        "\n",
        "print(lp2) # 3つの（最適化問題の）決定変数に対応する3つの（このプログラムで宣言された）変数は使い回せる．"
      ],
      "metadata": {
        "colab": {
          "base_uri": "https://localhost:8080/"
        },
        "id": "Z_TMrel7d0tT",
        "outputId": "31254dde-9498-47b9-a93c-1280b28f33c1"
      },
      "execution_count": null,
      "outputs": [
        {
          "output_type": "stream",
          "name": "stdout",
          "text": [
            "lp2:\n",
            "MAXIMIZE\n",
            "50*X1 + 80*X2 + 100*X3 + 0\n",
            "SUBJECT TO\n",
            "_C1: 4 X1 + 4 X2 + 10 X3 <= 60000\n",
            "\n",
            "_C2: 5 X1 + 12 X2 + 6 X3 <= 90000\n",
            "\n",
            "VARIABLES\n",
            "X1 <= 2000 Continuous\n",
            "X2 <= 3000 Continuous\n",
            "X3 <= 5000 Continuous\n",
            "\n"
          ]
        }
      ]
    },
    {
      "cell_type": "markdown",
      "source": [],
      "metadata": {
        "id": "k8GHeeregBqE"
      }
    },
    {
      "cell_type": "code",
      "source": [
        "status = lp2.solve()\n",
        "print(pulp.LpStatus[status])\n",
        "\n",
        "print('Optimal solution: (X1, X2, X3) = ({}, {}, {})'.format(X1.value(), X2.value(), X3.value()))\n",
        "print('Objective function value: f = {}'.format(lp1.objective.value()))"
      ],
      "metadata": {
        "id": "yPLFxQ12gKwK",
        "outputId": "3b6e3560-b1af-49a7-9938-ecf1571f2443",
        "colab": {
          "base_uri": "https://localhost:8080/"
        }
      },
      "execution_count": null,
      "outputs": [
        {
          "output_type": "stream",
          "name": "stdout",
          "text": [
            "Optimal\n",
            "Optimal solution: (X1, X2, X3) = (2000.0, 3000.0, 4000.0)\n",
            "Objective function value: f = 740000.0\n"
          ]
        }
      ]
    }
  ]
}