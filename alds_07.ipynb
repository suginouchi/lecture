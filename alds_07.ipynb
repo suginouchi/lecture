{
  "nbformat": 4,
  "nbformat_minor": 0,
  "metadata": {
    "colab": {
      "provenance": [],
      "authorship_tag": "ABX9TyMRMyL9Eea0OKrVe+/ROlSw",
      "include_colab_link": true
    },
    "kernelspec": {
      "name": "python3",
      "display_name": "Python 3"
    },
    "language_info": {
      "name": "python"
    }
  },
  "cells": [
    {
      "cell_type": "markdown",
      "metadata": {
        "id": "view-in-github",
        "colab_type": "text"
      },
      "source": [
        "<a href=\"https://colab.research.google.com/github/suginouchi/lecture/blob/main/alds_07.ipynb\" target=\"_parent\"><img src=\"https://colab.research.google.com/assets/colab-badge.svg\" alt=\"Open In Colab\"/></a>"
      ]
    },
    {
      "cell_type": "code",
      "source": [
        "def PARTITION(A, p, r):\n",
        "\n",
        "  x= A[r]\n",
        "  i=p-1\n",
        "\n",
        "  for j in range(p,r):\n",
        "\n",
        "    if A[j] >= x:\n",
        "      i += 1\n",
        "      A[i], A[j] = A[j], A[i]\n",
        "\n",
        "\n",
        "  A[i+1], A[r] = A[r], A[i+1]\n",
        "\n",
        "  return i+1\n",
        "\n",
        "# ---- * ---- * ---- * ---- * ---- * ---- * ----\n",
        "def QUICKSORT(A, p, r, layer):\n",
        "  if p<r:\n",
        "    q = PARTITION(A, p, r)\n",
        "\n",
        "    QUICKSORT(A, p, q-1, layer+1)\n",
        "    QUICKSORT(A, q+1, r, layer+1)\n",
        "\n",
        "A = [5,2,6,1,3,4]\n",
        "\n",
        "\n",
        "# ---- * ---- * ---- * ---- * ---- * ---- * ----\n",
        "print(QUICKSORT(A, 0, len(A)-1, 1))\n",
        "print(A)"
      ],
      "metadata": {
        "colab": {
          "base_uri": "https://localhost:8080/"
        },
        "id": "RJFYepWJKyYC",
        "outputId": "abfed18d-8c60-4ae4-8953-aad41da480cb"
      },
      "execution_count": null,
      "outputs": [
        {
          "output_type": "stream",
          "name": "stdout",
          "text": [
            "None\n",
            "[6, 5, 4, 3, 2, 1]\n"
          ]
        }
      ]
    },
    {
      "cell_type": "code",
      "execution_count": null,
      "metadata": {
        "id": "qZFymoIhtlfN",
        "colab": {
          "base_uri": "https://localhost:8080/"
        },
        "outputId": "59e16bd8-dcfb-4522-a5f0-b3028184ec09"
      },
      "outputs": [
        {
          "output_type": "stream",
          "name": "stdout",
          "text": [
            " ---- 2行目実行後 ----\n",
            "A [5, 2, 6, 1, 3, 4]\n",
            "i:0 j:-1 x:4 p:1 r:6\n",
            " ---- 3行目実行後 ----\n",
            "A [5, 2, 6, 1, 3, 4]\n",
            "i:0 j:1 x:4 p:1 r:6\n",
            "False\n",
            " ---- 3行目実行後 ----\n",
            "A [5, 2, 6, 1, 3, 4]\n",
            "i:0 j:2 x:4 p:1 r:6\n",
            "True\n",
            " ---- 6行目実行後 ----\n",
            "A [2, 5, 6, 1, 3, 4]\n",
            "i:1 j:2 x:4 p:1 r:6\n",
            " ---- 3行目実行後 ----\n",
            "A [2, 5, 6, 1, 3, 4]\n",
            "i:1 j:3 x:4 p:1 r:6\n",
            "False\n",
            " ---- 3行目実行後 ----\n",
            "A [2, 5, 6, 1, 3, 4]\n",
            "i:1 j:4 x:4 p:1 r:6\n",
            "True\n",
            " ---- 6行目実行後 ----\n",
            "A [2, 1, 6, 5, 3, 4]\n",
            "i:2 j:4 x:4 p:1 r:6\n",
            " ---- 3行目実行後 ----\n",
            "A [2, 1, 6, 5, 3, 4]\n",
            "i:2 j:5 x:4 p:1 r:6\n",
            "True\n",
            " ---- 6行目実行後 ----\n",
            "A [2, 1, 3, 5, 6, 4]\n",
            "i:3 j:5 x:4 p:1 r:6\n",
            " ---- 2行目実行後 ----\n",
            "A [2, 1, 3, 4, 6, 5]\n",
            "i:0 j:-1 x:3 p:1 r:3\n",
            " ---- 3行目実行後 ----\n",
            "A [2, 1, 3, 4, 6, 5]\n",
            "i:0 j:1 x:3 p:1 r:3\n",
            "True\n",
            " ---- 6行目実行後 ----\n",
            "A [2, 1, 3, 4, 6, 5]\n",
            "i:1 j:1 x:3 p:1 r:3\n",
            " ---- 3行目実行後 ----\n",
            "A [2, 1, 3, 4, 6, 5]\n",
            "i:1 j:2 x:3 p:1 r:3\n",
            "True\n",
            " ---- 6行目実行後 ----\n",
            "A [2, 1, 3, 4, 6, 5]\n",
            "i:2 j:2 x:3 p:1 r:3\n",
            " ---- 2行目実行後 ----\n",
            "A [2, 1, 3, 4, 6, 5]\n",
            "i:0 j:-1 x:1 p:1 r:2\n",
            " ---- 3行目実行後 ----\n",
            "A [2, 1, 3, 4, 6, 5]\n",
            "i:0 j:1 x:1 p:1 r:2\n",
            "False\n",
            " ---- 2行目実行後 ----\n",
            "A [1, 2, 3, 4, 6, 5]\n",
            "i:4 j:-1 x:5 p:5 r:6\n",
            " ---- 3行目実行後 ----\n",
            "A [1, 2, 3, 4, 6, 5]\n",
            "i:4 j:5 x:5 p:5 r:6\n",
            "False\n",
            "None\n",
            "[1, 2, 3, 4, 5, 6]\n"
          ]
        }
      ],
      "source": [
        "def DescendingPARTITION(A, p, r):\n",
        "\n",
        "  x= A[r]\n",
        "  i=p-1\n",
        "\n",
        "  print(' ---- 2行目実行後 ----')\n",
        "  print('A', A)\n",
        "  print('i:{} j:-1 x:{} p:{} r:{}'.format(i+1,x,p+1,r+1))\n",
        "\n",
        "  for j in range(p,r):\n",
        "    print(' ---- 3行目実行後 ----')\n",
        "    print('A', A)\n",
        "    print('i:{} j:{} x:{} p:{} r:{}'.format(i+1,j+1,x,p+1,r+1))\n",
        "    print( 'True' if A[j] <= x else \"False\")\n",
        "\n",
        "    if A[j] <= x:\n",
        "      i += 1\n",
        "      A[i], A[j] = A[j], A[i]\n",
        "\n",
        "      print(' ---- 6行目実行後 ----')\n",
        "      print('A', A)\n",
        "      print('i:{} j:{} x:{} p:{} r:{}'.format(i+1,j+1,x,p+1,r+1))\n",
        "\n",
        "\n",
        "  A[i+1], A[r] = A[r], A[i+1]\n",
        "\n",
        "  return i+1\n",
        "\n",
        "# ---- * ---- * ---- * ---- * ---- * ---- * ----\n",
        "def DescendingQUICKSORT(A, p, r, layer):\n",
        "  if p<r:\n",
        "    q = DescendingPARTITION(A, p, r)\n",
        "    # print(' ---- * ---- * ---- * ----')\n",
        "    # print('p,r,q,l ', p+1 ,r+1, q+1 ,layer)\n",
        "    # print(A)\n",
        "\n",
        "    DescendingQUICKSORT(A, p, q-1, layer+1)\n",
        "    DescendingQUICKSORT(A, q+1, r, layer+1)\n",
        "  # else:\n",
        "  #   print('p==r', p+1,r+1, layer)\n",
        "\n",
        "# ---- * ---- * ---- * ---- * ---- * ---- * ----\n",
        "A = [5,2,6,1,3,4]\n",
        "print(DescendingQUICKSORT(A, 0, len(A)-1, 1))\n",
        "print(A)"
      ]
    }
  ]
}