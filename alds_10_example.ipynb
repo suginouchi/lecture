{
  "nbformat": 4,
  "nbformat_minor": 0,
  "metadata": {
    "colab": {
      "provenance": [],
      "authorship_tag": "ABX9TyM3qCUx+kyuyvqI+FXv/Qlq",
      "include_colab_link": true
    },
    "kernelspec": {
      "name": "python3",
      "display_name": "Python 3"
    },
    "language_info": {
      "name": "python"
    }
  },
  "cells": [
    {
      "cell_type": "markdown",
      "metadata": {
        "id": "view-in-github",
        "colab_type": "text"
      },
      "source": [
        "<a href=\"https://colab.research.google.com/github/suginouchi/lecture/blob/main/alds_10_example.ipynb\" target=\"_parent\"><img src=\"https://colab.research.google.com/assets/colab-badge.svg\" alt=\"Open In Colab\"/></a>"
      ]
    },
    {
      "cell_type": "code",
      "execution_count": null,
      "metadata": {
        "id": "BSVr1h8NWLw2"
      },
      "outputs": [],
      "source": [
        "import random\n",
        "import time"
      ]
    },
    {
      "cell_type": "markdown",
      "source": [
        "【問1】"
      ],
      "metadata": {
        "id": "2rklPsBcTpd-"
      }
    },
    {
      "cell_type": "code",
      "source": [
        "def SHELL_SORT(A):\n",
        "  # write your code here\n",
        "  pass\n",
        "\n",
        "# ---- * ---- * ---- * ---- * ----\n",
        "def INSERTION_SORT(A, g):\n",
        "  # write your code here\n",
        "  pass"
      ],
      "metadata": {
        "id": "heOVzXYdWPvQ"
      },
      "execution_count": 2,
      "outputs": []
    },
    {
      "cell_type": "code",
      "source": [
        "n=10\n",
        "A = list(range(1,n+1))\n",
        "print(\"シャッフル前\",A)\n",
        "\n",
        "random.shuffle(A)\n",
        "print(\"シャッフル後\",A)\n",
        "\n",
        "SHELL_SORT(A)\n",
        "print('ソート後',A)"
      ],
      "metadata": {
        "id": "_CAn49oPWSQk"
      },
      "execution_count": null,
      "outputs": []
    },
    {
      "cell_type": "markdown",
      "source": [
        "【問2-1】"
      ],
      "metadata": {
        "id": "Ijq3luwhTrg5"
      }
    },
    {
      "cell_type": "code",
      "source": [
        "def isStable1(A, B):\n",
        "  # write your code here\n",
        "  pass"
      ],
      "metadata": {
        "id": "s6DPwuZ2Ts9u"
      },
      "execution_count": null,
      "outputs": []
    },
    {
      "cell_type": "code",
      "source": [
        "def isStable2(A, B):\n",
        "  # write your code here\n",
        "  pass"
      ],
      "metadata": {
        "id": "MYqJJ_C2_-bH"
      },
      "execution_count": null,
      "outputs": []
    },
    {
      "cell_type": "code",
      "source": [
        "class Check():\n",
        "  def __init__(self, id, v):\n",
        "    self.id = id\n",
        "    self.v = v\n",
        "\n",
        "  def __str__(self):\n",
        "    return \"id:{} v:{}\".format(self.id,self.v)"
      ],
      "metadata": {
        "id": "KZy2eE7lTsQp"
      },
      "execution_count": null,
      "outputs": []
    },
    {
      "cell_type": "code",
      "source": [
        "A=[]\n",
        "for i,v in enumerate([1,2,1,1,2]):\n",
        "  A.append(Check(i+1,v))\n",
        "\n",
        "B = []\n",
        "for j in [1,3,4,2,5]:\n",
        "  B.append(A[j-1])\n",
        "\n",
        "print('--- * --- * --- * ---')\n",
        "print(' ソート前     ソート後')\n",
        "for a,b in zip(A,B):\n",
        "  print(a,'  ',b)\n",
        "print('isStable?  ', isStable1(A,B))\n",
        "\n",
        "# ---- * ---- * ---- * ---- * ---- * ---- *\n",
        "B = []\n",
        "for j in [4,3,1,5,2]:\n",
        "  B.append(A[j-1])\n",
        "\n",
        "print('--- * --- * --- * ---')\n",
        "print(' ソート前     ソート後')\n",
        "for a,b in zip(A,B):\n",
        "  print(a,'  ',b)\n",
        "print('isStable?  ', isStable2(A,B))\n",
        "print('--- * --- * --- * ---')\n"
      ],
      "metadata": {
        "colab": {
          "base_uri": "https://localhost:8080/"
        },
        "id": "0HTx9_z6UgSL",
        "outputId": "40f7f76b-a504-4b1d-c25b-632764465dbc"
      },
      "execution_count": null,
      "outputs": [
        {
          "output_type": "stream",
          "name": "stdout",
          "text": [
            "--- * --- * --- * ---\n",
            " ソート前     ソート後\n",
            "id:1 v:1    id:1 v:1\n",
            "id:2 v:2    id:3 v:1\n",
            "id:3 v:1    id:4 v:1\n",
            "id:4 v:1    id:2 v:2\n",
            "id:5 v:2    id:5 v:2\n",
            "isStable?   Yes\n",
            "--- * --- * --- * ---\n",
            " ソート前     ソート後\n",
            "id:1 v:1    id:4 v:1\n",
            "id:2 v:2    id:3 v:1\n",
            "id:3 v:1    id:1 v:1\n",
            "id:4 v:1    id:5 v:2\n",
            "id:5 v:2    id:2 v:2\n",
            "isStable?   No\n",
            "--- * --- * --- * ---\n"
          ]
        }
      ]
    }
  ]
}