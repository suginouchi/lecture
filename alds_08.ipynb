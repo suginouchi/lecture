{
  "nbformat": 4,
  "nbformat_minor": 0,
  "metadata": {
    "colab": {
      "provenance": [],
      "authorship_tag": "ABX9TyOgMxUGPG1NTItLoM0kyg36",
      "include_colab_link": true
    },
    "kernelspec": {
      "name": "python3",
      "display_name": "Python 3"
    },
    "language_info": {
      "name": "python"
    }
  },
  "cells": [
    {
      "cell_type": "markdown",
      "metadata": {
        "id": "view-in-github",
        "colab_type": "text"
      },
      "source": [
        "<a href=\"https://colab.research.google.com/github/suginouchi/lecture/blob/main/alds_08.ipynb\" target=\"_parent\"><img src=\"https://colab.research.google.com/assets/colab-badge.svg\" alt=\"Open In Colab\"/></a>"
      ]
    },
    {
      "cell_type": "markdown",
      "source": [
        "**repeat-until文について**\n",
        "\n",
        "```\n",
        "i = 0\n",
        "repeat\n",
        "  i += 1\n",
        "until 10<=i\n",
        "```"
      ],
      "metadata": {
        "id": "XN5ELX9Q_2L-"
      }
    },
    {
      "cell_type": "code",
      "source": [
        "i = 0\n",
        "while True:\n",
        "  i+=1\n",
        "  if 10<=i:\n",
        "    break\n",
        "\n",
        "print(i)"
      ],
      "metadata": {
        "colab": {
          "base_uri": "https://localhost:8080/"
        },
        "id": "fcL1AOIu_hja",
        "outputId": "27b66dbb-90c9-4aa3-e00b-01470e130832"
      },
      "execution_count": null,
      "outputs": [
        {
          "output_type": "stream",
          "name": "stdout",
          "text": [
            "10\n"
          ]
        }
      ]
    },
    {
      "cell_type": "markdown",
      "source": [
        "【問1】 Hoareのクイックソート"
      ],
      "metadata": {
        "id": "ON52_74THi5l"
      }
    },
    {
      "cell_type": "code",
      "source": [
        "def HOARE_PARTITION(A,p,r):\n",
        "  x= A[p]\n",
        "  i=p-1\n",
        "  j=r+1\n",
        "  while True:\n",
        "    while True:\n",
        "      j-=1\n",
        "      if A[j]<=x:\n",
        "        break\n",
        "      # else:\n",
        "      #   print('false')\n",
        "    while True:\n",
        "      i+=1\n",
        "      if A[i]>=x:\n",
        "        break\n",
        "\n",
        "    if i<j:\n",
        "      A[i], A[j] = A[j], A[i]\n",
        "    else:\n",
        "      # print('ピボット',j+1, 'A[j]',A[j], A)\n",
        "      return j\n",
        "\n",
        "# ---- * ---- * ---- * ---- * ---- * ---- * ----\n",
        "def HOARE_QUICKSORT(A, p, r):\n",
        "  if p<r:\n",
        "    q = HOARE_PARTITION(A, p, r)\n",
        "\n",
        "    HOARE_QUICKSORT(A, p, q)\n",
        "    HOARE_QUICKSORT(A, q+1, r)\n",
        "\n",
        "# ---- * ---- * ---- * ---- * ---- * ---- * ----\n",
        "A = [4,9,8,2,7,6,3,1,5]\n",
        "print(A)\n",
        "HOARE_QUICKSORT(A, 0, len(A)-1)\n",
        "print(A)"
      ],
      "metadata": {
        "colab": {
          "base_uri": "https://localhost:8080/"
        },
        "id": "Bzwq5b9UHolo",
        "outputId": "0f4f1648-4147-44bb-dbb1-7958e92a69cc"
      },
      "execution_count": null,
      "outputs": [
        {
          "output_type": "stream",
          "name": "stdout",
          "text": [
            "[4, 9, 8, 2, 7, 6, 3, 1, 5]\n",
            "[1, 2, 3, 4, 5, 6, 7, 8, 9]\n"
          ]
        }
      ]
    }
  ]
}