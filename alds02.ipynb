{
  "nbformat": 4,
  "nbformat_minor": 0,
  "metadata": {
    "colab": {
      "provenance": [],
      "authorship_tag": "ABX9TyMoe+fmRaVxzKo/N07r2kVl",
      "include_colab_link": true
    },
    "kernelspec": {
      "name": "python3",
      "display_name": "Python 3"
    },
    "language_info": {
      "name": "python"
    }
  },
  "cells": [
    {
      "cell_type": "markdown",
      "metadata": {
        "id": "view-in-github",
        "colab_type": "text"
      },
      "source": [
        "<a href=\"https://colab.research.google.com/github/suginouchi/lecture/blob/main/alds02.ipynb\" target=\"_parent\"><img src=\"https://colab.research.google.com/assets/colab-badge.svg\" alt=\"Open In Colab\"/></a>"
      ]
    },
    {
      "cell_type": "markdown",
      "source": [
        "【問1】\n",
        "挿入ソートを実装する．\n",
        "\n",
        "- 入力インスタンスはランダムに作成する．\n",
        "  - 入力サイズ $n$ はプログラム内で指定する．\n",
        "- 入力サイズ $n$ を変更した時の計算時間を比較する．"
      ],
      "metadata": {
        "id": "Jl5cfiEeBFw6"
      }
    },
    {
      "cell_type": "code",
      "source": [
        "import matplotlib.pyplot as plt\n",
        "import random"
      ],
      "metadata": {
        "id": "AN8PmbbXBcpA",
        "colab": {
          "base_uri": "https://localhost:8080/"
        },
        "outputId": "242c5a32-9c13-456a-ba4e-5433e0dd0c57"
      },
      "execution_count": null,
      "outputs": [
        {
          "output_type": "stream",
          "name": "stdout",
          "text": [
            "1\n",
            "-2\n"
          ]
        }
      ]
    },
    {
      "cell_type": "code",
      "source": [
        "n=10\n",
        "A =list(range(1,n+1))\n",
        "print(\"シャッフル前\",A)\n",
        "\n",
        "random.shuffle(A)\n",
        "print(\"シャッフル後\",A)\n"
      ],
      "metadata": {
        "colab": {
          "base_uri": "https://localhost:8080/"
        },
        "id": "kgvGTFXmBiUH",
        "outputId": "e41a2d1c-00d9-4006-9bf1-13eed9e8ca62"
      },
      "execution_count": null,
      "outputs": [
        {
          "output_type": "stream",
          "name": "stdout",
          "text": [
            "シャッフル前 [1, 2, 3, 4, 5, 6, 7, 8, 9, 10]\n",
            "シャッフル後 [6, 8, 2, 5, 3, 10, 4, 7, 1, 9]\n"
          ]
        }
      ]
    },
    {
      "cell_type": "code",
      "source": [
        "def insertion_sort(n):\n",
        "\n",
        "  A =list(range(1,n+1))\n",
        "  random.shuffle(A)\n",
        "  print(\"ソート前\",A[:min(len(A),20)])\n",
        "\n",
        "  for j in range(1,len(A)):\n",
        "    key = A[j]\n",
        "    i=j-1\n",
        "    while i>=0 and A[i] < key:\n",
        "      A[i+1] = A[i]\n",
        "      i=i-1\n",
        "\n",
        "    A[i+1] = key\n",
        "\n",
        "\n",
        "  print(\"ソート完了\",A[:min(len(A),20)])"
      ],
      "metadata": {
        "id": "qokj_nT0DDy8"
      },
      "execution_count": null,
      "outputs": []
    },
    {
      "cell_type": "markdown",
      "source": [
        "計算時間を測るにはtimeモジュールを使うと良い．"
      ],
      "metadata": {
        "id": "SfQ5zd5lIhRS"
      }
    },
    {
      "cell_type": "code",
      "source": [
        "import time\n",
        "\n",
        "for i in range(1,5):\n",
        "  print(\"---- * ---- * ---- * ---- * ---- * ---- * ----\")\n",
        "  t1=time.perf_counter()\n",
        "  insertion_sort(10**i)     #ソートを行う\n",
        "  t2=time.perf_counter()\n",
        "  print(\"n:\",10**i ,\"経過時間\",t2-t1)"
      ],
      "metadata": {
        "colab": {
          "base_uri": "https://localhost:8080/"
        },
        "collapsed": true,
        "id": "vgUmCSZbI7Ev",
        "outputId": "c949536f-28c5-471a-bacf-fc6e7b94c133"
      },
      "execution_count": null,
      "outputs": [
        {
          "output_type": "stream",
          "name": "stdout",
          "text": [
            "---- * ---- * ---- * ---- * ---- * ---- * ----\n",
            "ソート前 [5, 9, 6, 2, 10, 7, 1, 3, 4, 8]\n",
            "ソート完了 [10, 9, 8, 7, 6, 5, 4, 3, 2, 1]\n",
            "n: 10 経過時間 0.0014165249999678053\n",
            "---- * ---- * ---- * ---- * ---- * ---- * ----\n",
            "ソート前 [96, 37, 36, 97, 44, 3, 68, 83, 61, 19, 79, 8, 90, 100, 15, 42, 14, 55, 54, 80]\n",
            "ソート完了 [100, 99, 98, 97, 96, 95, 94, 93, 92, 91, 90, 89, 88, 87, 86, 85, 84, 83, 82, 81]\n",
            "n: 100 経過時間 0.0023575179998260865\n",
            "---- * ---- * ---- * ---- * ---- * ---- * ----\n",
            "ソート前 [543, 295, 355, 36, 884, 53, 613, 707, 921, 850, 578, 970, 33, 12, 72, 640, 674, 377, 704, 756]\n",
            "ソート完了 [1000, 999, 998, 997, 996, 995, 994, 993, 992, 991, 990, 989, 988, 987, 986, 985, 984, 983, 982, 981]\n",
            "n: 1000 経過時間 0.05670109299990145\n",
            "---- * ---- * ---- * ---- * ---- * ---- * ----\n",
            "ソート前 [937, 6249, 4959, 9864, 2895, 1237, 7060, 272, 4112, 2225, 4178, 8902, 4995, 8293, 9238, 2927, 3776, 9890, 2765, 2571]\n",
            "ソート完了 [10000, 9999, 9998, 9997, 9996, 9995, 9994, 9993, 9992, 9991, 9990, 9989, 9988, 9987, 9986, 9985, 9984, 9983, 9982, 9981]\n",
            "n: 10000 経過時間 4.506730488999892\n"
          ]
        }
      ]
    },
    {
      "cell_type": "markdown",
      "source": [
        "【問2】選択ソート\n",
        "\n",
        "- 配列𝐴を以下の方法でソートするアルゴリズムを選択ソートと言います．\n",
        "  - 配列𝐴の中で最小の要素を見つけ，𝐴[1]と交換する．\n",
        "  - 配列𝐴の中で2番目に小さい要素を見つけ，𝐴[2]と交換する．\n",
        "  \n",
        "      ︙\n",
        "  - 配列𝐴の中で𝑛−1番目に小さい要素を見つけ，𝐴[𝑛−1]と交換する．\n",
        "  \n",
        "\n",
        "- 選択ソートの擬似コードを書いてください．\n",
        "- 選択ソートを実際に実装してください．\n",
        "\n",
        "- 入力サイズの特徴（どの程度ソート済みか）がソートにかかる時間に与える影響について，\n",
        "  挿入ソートと選択ソートを比較し考察してください．"
      ],
      "metadata": {
        "id": "mk7PejAsTDq2"
      }
    },
    {
      "cell_type": "markdown",
      "source": [
        "```[python]\n",
        "selection_sort(A)\n",
        "  \n",
        "  for i=1 to A.length-1\n",
        "    idx=i\n",
        "    for j =i+1 to A.length\n",
        "      if A[j]<A[idx]\n",
        "        idx=j\n",
        "    \n",
        "    A[idx]とA[i]を交換\n",
        "\n",
        "```"
      ],
      "metadata": {
        "id": "c8RqSimy_UiJ"
      }
    },
    {
      "cell_type": "code",
      "source": [
        "`def selection_sort(n):\n",
        "  A =list(range(1,n+1))\n",
        "  random.shuffle(A)\n",
        "  print(\"ソート前\",A[:min(len(A),20)])\n",
        "\n",
        "  for i in range(len(A)-1):\n",
        "\n",
        "    v, idx = A[i], i\n",
        "\n",
        "    for j in range(i+1, len(A)):\n",
        "      if A[j]<v:\n",
        "        v,idx = A[j],j\n",
        "\n",
        "    A[i],A[idx]=v,A[i]\n",
        "\n",
        "  print(\"ソート後\",A[:min(len(A),20)])"
      ],
      "metadata": {
        "id": "dKzlD-JiTaNV"
      },
      "execution_count": null,
      "outputs": []
    },
    {
      "cell_type": "code",
      "source": [
        "\n",
        "for i in range(1,5):\n",
        "  print(\"---- * ---- * ---- * ---- * ---- * ---- * ----\")\n",
        "  t1=time.perf_counter()\n",
        "  selection_sort(10**i)\n",
        "  t2=time.perf_counter()\n",
        "  print(\"n:\",10**i ,\"経過時間\",t2-t1)\n"
      ],
      "metadata": {
        "colab": {
          "base_uri": "https://localhost:8080/"
        },
        "id": "Ix8L9JEoTxRM",
        "outputId": "369cd0dd-3de1-4d44-ca6a-060572cfa598"
      },
      "execution_count": null,
      "outputs": [
        {
          "output_type": "stream",
          "name": "stdout",
          "text": [
            "---- * ---- * ---- * ---- * ---- * ---- * ----\n",
            "ソート前 [10, 3, 7, 9, 5, 8, 6, 1, 2, 4]\n",
            "ソート後 [1, 2, 3, 4, 5, 6, 7, 8, 9, 10]\n",
            "n: 10 経過時間 0.0018543149999459274\n",
            "---- * ---- * ---- * ---- * ---- * ---- * ----\n",
            "ソート前 [21, 11, 41, 74, 27, 35, 85, 19, 62, 57, 26, 82, 78, 77, 55, 70, 86, 92, 81, 61]\n",
            "ソート後 [1, 2, 3, 4, 5, 6, 7, 8, 9, 10, 11, 12, 13, 14, 15, 16, 17, 18, 19, 20]\n",
            "n: 100 経過時間 0.0006918200001564401\n",
            "---- * ---- * ---- * ---- * ---- * ---- * ----\n",
            "ソート前 [162, 751, 256, 391, 662, 919, 293, 167, 7, 726, 251, 643, 301, 818, 530, 789, 710, 495, 439, 142]\n",
            "ソート後 [1, 2, 3, 4, 5, 6, 7, 8, 9, 10, 11, 12, 13, 14, 15, 16, 17, 18, 19, 20]\n",
            "n: 1000 経過時間 0.041474123999933\n",
            "---- * ---- * ---- * ---- * ---- * ---- * ----\n",
            "ソート前 [4096, 4602, 9306, 5689, 6541, 4900, 2245, 976, 7563, 9815, 4573, 6795, 2866, 9613, 6608, 345, 1063, 6585, 1617, 5684]\n",
            "ソート後 [1, 2, 3, 4, 5, 6, 7, 8, 9, 10, 11, 12, 13, 14, 15, 16, 17, 18, 19, 20]\n",
            "n: 10000 経過時間 3.5057734620002066\n"
          ]
        }
      ]
    },
    {
      "cell_type": "markdown",
      "source": [
        "【問3】再帰を使った順列の生成\n",
        "\n",
        "\n",
        "- kの意味は，「今,配列Aの何番目の要素に注目しているか」を表す．\n",
        "\n",
        "- GP()では，配列Aを，k桁目より左の「順列が確定した部分」と，A[k..len(A)-1]の「k桁目の値の候補の集合」に分けて考えることができる．\n",
        "    - A[k..len(A)-1]を使って，A[k]としてあり得る値を全て挙げつつ，「k桁目以降についてはA[k+1..len(A)-1]を使って全パターン挙げてね」とGP(A,k+1)に仕事を投げているイメージ．\n",
        "\n",
        "---\n",
        "例えば，GP([1,2,3,4], 0)の中では，次の4つの操作が行なわれている．\n",
        "\n",
        "- 1桁目を「1」に確定．「2〜4桁目は2,3,4を使って出来る全パターンを列挙してね」とGP(A,1）に任せる．\n",
        "- 1桁目を「2」に確定．「2〜4桁目は1,3,4を使って出来る全パターンを列挙してね」とGP(A,1）に任せる．\n",
        "- 1桁目を「3」に確定．「2〜4桁目は1,2,4を使って出来る全パターンを列挙してね」とGP(A,1）に任せる．\n",
        "- 1桁目を「4」に確定．「2〜4桁目は1,2,3を使って出来る全パターンを列挙してね」とGP(A,1）に任せる．\n",
        "\n",
        "\n",
        "---\n",
        "A[i]とA[k]の交換は，この「k桁目をxに確定」の操作に該当．\n",
        "\n",
        "1桁目を「1」に確定した後にGP([1,2,3,4], 1)が呼ばれると，そのGP()の中では，\n",
        "- 2桁目を「2」に確定．「3,4桁目は3,4を使って出来る全パターンを列挙してね」とGP(A,2）に任せる．\n",
        "- 2桁目を「3」に確定．「3,4桁目は2,4を使って出来る全パターンを列挙してね」とGP(A,2）に任せる．\n",
        "- 2桁目を「4」に確定．「3,4桁目は2,3を使って出来る全パターンを列挙してね」とGP(A,2）に任せる．\n",
        "\n",
        "\n",
        "の3つが行なわれる．"
      ],
      "metadata": {
        "id": "rNe2C-v3Hdrk"
      }
    },
    {
      "cell_type": "code",
      "source": [
        "def GP(A,k):\n",
        "  if k==len(A):\n",
        "    print(A)\n",
        "  else:\n",
        "    for i in range(k,len(A)):\n",
        "      A[k], A[i] = A[i], A[k]\n",
        "      GP(A,k+1)\n",
        "      A[k], A[i] = A[i], A[k]\n"
      ],
      "metadata": {
        "id": "F9G0vJFBH3eu"
      },
      "execution_count": null,
      "outputs": []
    },
    {
      "cell_type": "code",
      "source": [
        "A = [i for i in range(1,4)]\n",
        "print('A=[1,2,3]の時')\n",
        "GP(A,0)\n",
        "\n",
        "print('---- * ---- * ---- * ---- * ----')\n",
        "print('A=[1,2,3,4]の時')\n",
        "A = [i for i in range(1,5)]\n",
        "GP(A,0)\n",
        "\n"
      ],
      "metadata": {
        "colab": {
          "base_uri": "https://localhost:8080/"
        },
        "id": "bbtortCTMc31",
        "outputId": "e6ad45a0-9e76-4759-f90c-6f52e2fc04c7"
      },
      "execution_count": null,
      "outputs": [
        {
          "output_type": "stream",
          "name": "stdout",
          "text": [
            "A=[1,2,3]の時\n",
            "[1, 2, 3]\n",
            "[1, 3, 2]\n",
            "[2, 1, 3]\n",
            "[2, 3, 1]\n",
            "[3, 2, 1]\n",
            "[3, 1, 2]\n",
            "---- * ---- * ---- * ---- * ----\n",
            "A=[1,2,3,4]の時\n",
            "[1, 2, 3, 4]\n",
            "[1, 2, 4, 3]\n",
            "[1, 3, 2, 4]\n",
            "[1, 3, 4, 2]\n",
            "[1, 4, 3, 2]\n",
            "[1, 4, 2, 3]\n",
            "[2, 1, 3, 4]\n",
            "[2, 1, 4, 3]\n",
            "[2, 3, 1, 4]\n",
            "[2, 3, 4, 1]\n",
            "[2, 4, 3, 1]\n",
            "[2, 4, 1, 3]\n",
            "[3, 2, 1, 4]\n",
            "[3, 2, 4, 1]\n",
            "[3, 1, 2, 4]\n",
            "[3, 1, 4, 2]\n",
            "[3, 4, 1, 2]\n",
            "[3, 4, 2, 1]\n",
            "[4, 2, 3, 1]\n",
            "[4, 2, 1, 3]\n",
            "[4, 3, 2, 1]\n",
            "[4, 3, 1, 2]\n",
            "[4, 1, 3, 2]\n",
            "[4, 1, 2, 3]\n"
          ]
        }
      ]
    }
  ]
}